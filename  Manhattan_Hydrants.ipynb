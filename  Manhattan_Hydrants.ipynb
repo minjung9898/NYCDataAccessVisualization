{
 "cells": [
  {
   "cell_type": "code",
   "execution_count": 1,
   "id": "0ea8f18f",
   "metadata": {},
   "outputs": [],
   "source": [
    "import pandas as pd\n",
    "import geopandas as gpd\n",
    "from shapely.geometry import Point\n",
    "%matplotlib inline"
   ]
  },
  {
   "cell_type": "code",
   "execution_count": 2,
   "id": "06b818a9",
   "metadata": {},
   "outputs": [
    {
     "data": {
      "text/html": [
       "<div>\n",
       "<style scoped>\n",
       "    .dataframe tbody tr th:only-of-type {\n",
       "        vertical-align: middle;\n",
       "    }\n",
       "\n",
       "    .dataframe tbody tr th {\n",
       "        vertical-align: top;\n",
       "    }\n",
       "\n",
       "    .dataframe thead th {\n",
       "        text-align: right;\n",
       "    }\n",
       "</style>\n",
       "<table border=\"1\" class=\"dataframe\">\n",
       "  <thead>\n",
       "    <tr style=\"text-align: right;\">\n",
       "      <th></th>\n",
       "      <th>the_geom</th>\n",
       "      <th>OBJECTID</th>\n",
       "      <th>BORO</th>\n",
       "      <th>UNITID</th>\n",
       "      <th>POINT_X</th>\n",
       "      <th>POINT_Y</th>\n",
       "      <th>CB</th>\n",
       "      <th>LATITUDE</th>\n",
       "      <th>LONGITUDE</th>\n",
       "    </tr>\n",
       "  </thead>\n",
       "  <tbody>\n",
       "    <tr>\n",
       "      <th>0</th>\n",
       "      <td>POINT (-73.79456804377382 40.7722177771488)</td>\n",
       "      <td>169</td>\n",
       "      <td>4</td>\n",
       "      <td>H425919a</td>\n",
       "      <td>1041150.586</td>\n",
       "      <td>220683.2730</td>\n",
       "      <td>407.0</td>\n",
       "      <td>40.772217</td>\n",
       "      <td>-73.794571</td>\n",
       "    </tr>\n",
       "    <tr>\n",
       "      <th>1</th>\n",
       "      <td>POINT (-73.91289250895464 40.644346617665086)</td>\n",
       "      <td>170</td>\n",
       "      <td>3</td>\n",
       "      <td>H325449</td>\n",
       "      <td>1008423.396</td>\n",
       "      <td>174041.2450</td>\n",
       "      <td>318.0</td>\n",
       "      <td>40.644348</td>\n",
       "      <td>-73.912895</td>\n",
       "    </tr>\n",
       "    <tr>\n",
       "      <th>2</th>\n",
       "      <td>POINT (-73.95303997851815 40.72505714515931)</td>\n",
       "      <td>172</td>\n",
       "      <td>3</td>\n",
       "      <td>H307276</td>\n",
       "      <td>997266.219</td>\n",
       "      <td>203437.9060</td>\n",
       "      <td>301.0</td>\n",
       "      <td>40.725056</td>\n",
       "      <td>-73.953041</td>\n",
       "    </tr>\n",
       "    <tr>\n",
       "      <th>3</th>\n",
       "      <td>POINT (-73.99463256503688 40.69398892775763)</td>\n",
       "      <td>173</td>\n",
       "      <td>3</td>\n",
       "      <td>H301843</td>\n",
       "      <td>985738.421</td>\n",
       "      <td>192115.3730</td>\n",
       "      <td>302.0</td>\n",
       "      <td>40.693989</td>\n",
       "      <td>-73.994629</td>\n",
       "    </tr>\n",
       "    <tr>\n",
       "      <th>4</th>\n",
       "      <td>POINT (-73.93569187481359 40.73528872722263)</td>\n",
       "      <td>174</td>\n",
       "      <td>4</td>\n",
       "      <td>H439410</td>\n",
       "      <td>1002071.970</td>\n",
       "      <td>207168.6435</td>\n",
       "      <td>402.0</td>\n",
       "      <td>40.735291</td>\n",
       "      <td>-73.935692</td>\n",
       "    </tr>\n",
       "  </tbody>\n",
       "</table>\n",
       "</div>"
      ],
      "text/plain": [
       "                                        the_geom  OBJECTID  BORO    UNITID  \\\n",
       "0    POINT (-73.79456804377382 40.7722177771488)       169     4  H425919a   \n",
       "1  POINT (-73.91289250895464 40.644346617665086)       170     3   H325449   \n",
       "2   POINT (-73.95303997851815 40.72505714515931)       172     3   H307276   \n",
       "3   POINT (-73.99463256503688 40.69398892775763)       173     3   H301843   \n",
       "4   POINT (-73.93569187481359 40.73528872722263)       174     4   H439410   \n",
       "\n",
       "       POINT_X      POINT_Y     CB   LATITUDE  LONGITUDE  \n",
       "0  1041150.586  220683.2730  407.0  40.772217 -73.794571  \n",
       "1  1008423.396  174041.2450  318.0  40.644348 -73.912895  \n",
       "2   997266.219  203437.9060  301.0  40.725056 -73.953041  \n",
       "3   985738.421  192115.3730  302.0  40.693989 -73.994629  \n",
       "4  1002071.970  207168.6435  402.0  40.735291 -73.935692  "
      ]
     },
     "execution_count": 2,
     "metadata": {},
     "output_type": "execute_result"
    }
   ],
   "source": [
    "df = pd.read_csv(\"Hydrants.csv\")\n",
    "df.head()"
   ]
  },
  {
   "cell_type": "code",
   "execution_count": 4,
   "id": "275c8726",
   "metadata": {},
   "outputs": [
    {
     "data": {
      "text/plain": [
       "the_geom     109615\n",
       "OBJECTID     109615\n",
       "BORO         109615\n",
       "UNITID       109615\n",
       "POINT_X      109615\n",
       "POINT_Y      109615\n",
       "CB           109603\n",
       "LATITUDE     109615\n",
       "LONGITUDE    109615\n",
       "dtype: int64"
      ]
     },
     "execution_count": 4,
     "metadata": {},
     "output_type": "execute_result"
    }
   ],
   "source": [
    "df.count()"
   ]
  },
  {
   "cell_type": "code",
   "execution_count": 6,
   "id": "4d7f071b",
   "metadata": {},
   "outputs": [
    {
     "data": {
      "text/html": [
       "<div>\n",
       "<style scoped>\n",
       "    .dataframe tbody tr th:only-of-type {\n",
       "        vertical-align: middle;\n",
       "    }\n",
       "\n",
       "    .dataframe tbody tr th {\n",
       "        vertical-align: top;\n",
       "    }\n",
       "\n",
       "    .dataframe thead th {\n",
       "        text-align: right;\n",
       "    }\n",
       "</style>\n",
       "<table border=\"1\" class=\"dataframe\">\n",
       "  <thead>\n",
       "    <tr style=\"text-align: right;\">\n",
       "      <th></th>\n",
       "      <th>the_geom</th>\n",
       "      <th>OBJECTID</th>\n",
       "      <th>BORO</th>\n",
       "      <th>UNITID</th>\n",
       "      <th>POINT_X</th>\n",
       "      <th>POINT_Y</th>\n",
       "      <th>CB</th>\n",
       "      <th>LATITUDE</th>\n",
       "      <th>LONGITUDE</th>\n",
       "    </tr>\n",
       "  </thead>\n",
       "  <tbody>\n",
       "    <tr>\n",
       "      <th>13149</th>\n",
       "      <td>POINT (-73.909049678923 40.874261681246686)</td>\n",
       "      <td>16321</td>\n",
       "      <td>1</td>\n",
       "      <td>H201246</td>\n",
       "      <td>1009402.856</td>\n",
       "      <td>257807.917</td>\n",
       "      <td>208.0</td>\n",
       "      <td>40.87426</td>\n",
       "      <td>-73.9090</td>\n",
       "    </tr>\n",
       "    <tr>\n",
       "      <th>36509</th>\n",
       "      <td>POINT (-73.90941836943684 40.87453100061599)</td>\n",
       "      <td>44999</td>\n",
       "      <td>1</td>\n",
       "      <td>H201257</td>\n",
       "      <td>1009300.791</td>\n",
       "      <td>257905.935</td>\n",
       "      <td>208.0</td>\n",
       "      <td>40.87453</td>\n",
       "      <td>-73.9094</td>\n",
       "    </tr>\n",
       "    <tr>\n",
       "      <th>37305</th>\n",
       "      <td>POINT (-73.91093370530525 40.87792048130958)</td>\n",
       "      <td>45972</td>\n",
       "      <td>1</td>\n",
       "      <td>H201754</td>\n",
       "      <td>1008880.462</td>\n",
       "      <td>259140.427</td>\n",
       "      <td>208.0</td>\n",
       "      <td>40.87792</td>\n",
       "      <td>-73.9109</td>\n",
       "    </tr>\n",
       "    <tr>\n",
       "      <th>56832</th>\n",
       "      <td>POINT (-73.90855985439175 40.87666452831641)</td>\n",
       "      <td>70053</td>\n",
       "      <td>1</td>\n",
       "      <td>H201759</td>\n",
       "      <td>1009537.406</td>\n",
       "      <td>258683.510</td>\n",
       "      <td>208.0</td>\n",
       "      <td>40.87666</td>\n",
       "      <td>-73.9085</td>\n",
       "    </tr>\n",
       "    <tr>\n",
       "      <th>61451</th>\n",
       "      <td>POINT (-73.90889827782112 40.87388393586331)</td>\n",
       "      <td>75721</td>\n",
       "      <td>1</td>\n",
       "      <td>H201247</td>\n",
       "      <td>1009444.870</td>\n",
       "      <td>257670.333</td>\n",
       "      <td>207.0</td>\n",
       "      <td>40.87388</td>\n",
       "      <td>-73.9088</td>\n",
       "    </tr>\n",
       "  </tbody>\n",
       "</table>\n",
       "</div>"
      ],
      "text/plain": [
       "                                           the_geom  OBJECTID  BORO   UNITID  \\\n",
       "13149   POINT (-73.909049678923 40.874261681246686)     16321     1  H201246   \n",
       "36509  POINT (-73.90941836943684 40.87453100061599)     44999     1  H201257   \n",
       "37305  POINT (-73.91093370530525 40.87792048130958)     45972     1  H201754   \n",
       "56832  POINT (-73.90855985439175 40.87666452831641)     70053     1  H201759   \n",
       "61451  POINT (-73.90889827782112 40.87388393586331)     75721     1  H201247   \n",
       "\n",
       "           POINT_X     POINT_Y     CB  LATITUDE  LONGITUDE  \n",
       "13149  1009402.856  257807.917  208.0  40.87426   -73.9090  \n",
       "36509  1009300.791  257905.935  208.0  40.87453   -73.9094  \n",
       "37305  1008880.462  259140.427  208.0  40.87792   -73.9109  \n",
       "56832  1009537.406  258683.510  208.0  40.87666   -73.9085  \n",
       "61451  1009444.870  257670.333  207.0  40.87388   -73.9088  "
      ]
     },
     "execution_count": 6,
     "metadata": {},
     "output_type": "execute_result"
    }
   ],
   "source": [
    "manhattan = df[df['BORO'] == 1]\n",
    "manhattan.head()"
   ]
  },
  {
   "cell_type": "code",
   "execution_count": 7,
   "id": "1c6be93f",
   "metadata": {},
   "outputs": [
    {
     "data": {
      "text/plain": [
       "the_geom     13190\n",
       "OBJECTID     13190\n",
       "BORO         13190\n",
       "UNITID       13190\n",
       "POINT_X      13190\n",
       "POINT_Y      13190\n",
       "CB           13190\n",
       "LATITUDE     13190\n",
       "LONGITUDE    13190\n",
       "dtype: int64"
      ]
     },
     "execution_count": 7,
     "metadata": {},
     "output_type": "execute_result"
    }
   ],
   "source": [
    "manhattan.count()"
   ]
  },
  {
   "cell_type": "code",
   "execution_count": 8,
   "id": "ba2fe937",
   "metadata": {},
   "outputs": [
    {
     "data": {
      "text/plain": [
       "13149       POINT (-73.909049678923 40.874261681246686)\n",
       "36509      POINT (-73.90941836943684 40.87453100061599)\n",
       "37305      POINT (-73.91093370530525 40.87792048130958)\n",
       "56832      POINT (-73.90855985439175 40.87666452831641)\n",
       "61451      POINT (-73.90889827782112 40.87388393586331)\n",
       "                              ...                      \n",
       "109592     POINT (-73.99798015130197 40.76163866020268)\n",
       "109596     POINT (-73.99520364089209 40.76042573844972)\n",
       "109597     POINT (-73.99756258955742 40.76226186590283)\n",
       "109604       POINT (-73.9947729254417 40.7602596332204)\n",
       "109610    POINT (-73.99743970522597 40.761407055586034)\n",
       "Name: the_geom, Length: 13190, dtype: object"
      ]
     },
     "execution_count": 8,
     "metadata": {},
     "output_type": "execute_result"
    }
   ],
   "source": [
    "pt = manhattan.the_geom\n",
    "pt"
   ]
  },
  {
   "cell_type": "code",
   "execution_count": 10,
   "id": "b65b0f88",
   "metadata": {},
   "outputs": [
    {
     "name": "stderr",
     "output_type": "stream",
     "text": [
      "/Users/minjungsim/opt/anaconda3/lib/python3.9/site-packages/pandas/core/dtypes/cast.py:118: ShapelyDeprecationWarning: The array interface is deprecated and will no longer work in Shapely 2.0. Convert the '.coords' to a numpy array instead.\n",
      "  arr = construct_1d_object_array_from_listlike(values)\n"
     ]
    },
    {
     "data": {
      "text/plain": [
       "0                POINT (-73.79457092 40.7722168)\n",
       "1         POINT (-73.91289519999999 40.64434814)\n",
       "2         POINT (-73.95304108000001 40.72505569)\n",
       "3                POINT (-73.99462891 40.6939888)\n",
       "4               POINT (-73.93569183 40.73529053)\n",
       "                           ...                  \n",
       "109610    POINT (-73.99743970999999 40.76140706)\n",
       "109611           POINT (-74.1746562 40.52428354)\n",
       "109612    POINT (-73.90683325000001 40.88594388)\n",
       "109613          POINT (-73.81470602 40.82531467)\n",
       "109614          POINT (-73.92409803 40.84121664)\n",
       "Length: 109615, dtype: object"
      ]
     },
     "execution_count": 10,
     "metadata": {},
     "output_type": "execute_result"
    }
   ],
   "source": [
    "points = df.apply(lambda row: Point(row.LONGITUDE, row.LATITUDE), axis=1)\n",
    "points"
   ]
  },
  {
   "cell_type": "code",
   "execution_count": 11,
   "id": "a20973d6",
   "metadata": {},
   "outputs": [
    {
     "name": "stderr",
     "output_type": "stream",
     "text": [
      "/Users/minjungsim/opt/anaconda3/lib/python3.9/site-packages/pyproj/crs/crs.py:131: FutureWarning: '+init=<authority>:<code>' syntax is deprecated. '<authority>:<code>' is the preferred initialization method. When making the change, be mindful of axis order changes: https://pyproj4.github.io/pyproj/stable/gotchas.html#axis-order-changes-in-proj-6\n",
      "  in_crs_string = _prepare_from_proj_string(in_crs_string)\n"
     ]
    },
    {
     "data": {
      "text/html": [
       "<div>\n",
       "<style scoped>\n",
       "    .dataframe tbody tr th:only-of-type {\n",
       "        vertical-align: middle;\n",
       "    }\n",
       "\n",
       "    .dataframe tbody tr th {\n",
       "        vertical-align: top;\n",
       "    }\n",
       "\n",
       "    .dataframe thead th {\n",
       "        text-align: right;\n",
       "    }\n",
       "</style>\n",
       "<table border=\"1\" class=\"dataframe\">\n",
       "  <thead>\n",
       "    <tr style=\"text-align: right;\">\n",
       "      <th></th>\n",
       "      <th>the_geom</th>\n",
       "      <th>OBJECTID</th>\n",
       "      <th>BORO</th>\n",
       "      <th>UNITID</th>\n",
       "      <th>POINT_X</th>\n",
       "      <th>POINT_Y</th>\n",
       "      <th>CB</th>\n",
       "      <th>LATITUDE</th>\n",
       "      <th>LONGITUDE</th>\n",
       "      <th>geometry</th>\n",
       "    </tr>\n",
       "  </thead>\n",
       "  <tbody>\n",
       "    <tr>\n",
       "      <th>13149</th>\n",
       "      <td>POINT (-73.909049678923 40.874261681246686)</td>\n",
       "      <td>16321</td>\n",
       "      <td>1</td>\n",
       "      <td>H201246</td>\n",
       "      <td>1009402.856</td>\n",
       "      <td>257807.917</td>\n",
       "      <td>208.0</td>\n",
       "      <td>40.87426</td>\n",
       "      <td>-73.9090</td>\n",
       "      <td>POINT (-73.90900 40.87426)</td>\n",
       "    </tr>\n",
       "    <tr>\n",
       "      <th>36509</th>\n",
       "      <td>POINT (-73.90941836943684 40.87453100061599)</td>\n",
       "      <td>44999</td>\n",
       "      <td>1</td>\n",
       "      <td>H201257</td>\n",
       "      <td>1009300.791</td>\n",
       "      <td>257905.935</td>\n",
       "      <td>208.0</td>\n",
       "      <td>40.87453</td>\n",
       "      <td>-73.9094</td>\n",
       "      <td>POINT (-73.90940 40.87453)</td>\n",
       "    </tr>\n",
       "    <tr>\n",
       "      <th>37305</th>\n",
       "      <td>POINT (-73.91093370530525 40.87792048130958)</td>\n",
       "      <td>45972</td>\n",
       "      <td>1</td>\n",
       "      <td>H201754</td>\n",
       "      <td>1008880.462</td>\n",
       "      <td>259140.427</td>\n",
       "      <td>208.0</td>\n",
       "      <td>40.87792</td>\n",
       "      <td>-73.9109</td>\n",
       "      <td>POINT (-73.91090 40.87792)</td>\n",
       "    </tr>\n",
       "    <tr>\n",
       "      <th>56832</th>\n",
       "      <td>POINT (-73.90855985439175 40.87666452831641)</td>\n",
       "      <td>70053</td>\n",
       "      <td>1</td>\n",
       "      <td>H201759</td>\n",
       "      <td>1009537.406</td>\n",
       "      <td>258683.510</td>\n",
       "      <td>208.0</td>\n",
       "      <td>40.87666</td>\n",
       "      <td>-73.9085</td>\n",
       "      <td>POINT (-73.90850 40.87666)</td>\n",
       "    </tr>\n",
       "    <tr>\n",
       "      <th>61451</th>\n",
       "      <td>POINT (-73.90889827782112 40.87388393586331)</td>\n",
       "      <td>75721</td>\n",
       "      <td>1</td>\n",
       "      <td>H201247</td>\n",
       "      <td>1009444.870</td>\n",
       "      <td>257670.333</td>\n",
       "      <td>207.0</td>\n",
       "      <td>40.87388</td>\n",
       "      <td>-73.9088</td>\n",
       "      <td>POINT (-73.90880 40.87388)</td>\n",
       "    </tr>\n",
       "  </tbody>\n",
       "</table>\n",
       "</div>"
      ],
      "text/plain": [
       "                                           the_geom  OBJECTID  BORO   UNITID  \\\n",
       "13149   POINT (-73.909049678923 40.874261681246686)     16321     1  H201246   \n",
       "36509  POINT (-73.90941836943684 40.87453100061599)     44999     1  H201257   \n",
       "37305  POINT (-73.91093370530525 40.87792048130958)     45972     1  H201754   \n",
       "56832  POINT (-73.90855985439175 40.87666452831641)     70053     1  H201759   \n",
       "61451  POINT (-73.90889827782112 40.87388393586331)     75721     1  H201247   \n",
       "\n",
       "           POINT_X     POINT_Y     CB  LATITUDE  LONGITUDE  \\\n",
       "13149  1009402.856  257807.917  208.0  40.87426   -73.9090   \n",
       "36509  1009300.791  257905.935  208.0  40.87453   -73.9094   \n",
       "37305  1008880.462  259140.427  208.0  40.87792   -73.9109   \n",
       "56832  1009537.406  258683.510  208.0  40.87666   -73.9085   \n",
       "61451  1009444.870  257670.333  207.0  40.87388   -73.9088   \n",
       "\n",
       "                         geometry  \n",
       "13149  POINT (-73.90900 40.87426)  \n",
       "36509  POINT (-73.90940 40.87453)  \n",
       "37305  POINT (-73.91090 40.87792)  \n",
       "56832  POINT (-73.90850 40.87666)  \n",
       "61451  POINT (-73.90880 40.87388)  "
      ]
     },
     "execution_count": 11,
     "metadata": {},
     "output_type": "execute_result"
    }
   ],
   "source": [
    "manhattan_hydrant = gpd.GeoDataFrame(manhattan, geometry = points)\n",
    "manhattan_hydrant.crs = {'init': 'epsg:4326'}\n",
    "manhattan_hydrant.head()"
   ]
  },
  {
   "cell_type": "code",
   "execution_count": 12,
   "id": "a5acd5dc",
   "metadata": {},
   "outputs": [
    {
     "data": {
      "text/plain": [
       "<AxesSubplot:>"
      ]
     },
     "execution_count": 12,
     "metadata": {},
     "output_type": "execute_result"
    },
    {
     "data": {
      "image/png": "[encoded data removed]",
      "text/plain": [
       "<Figure size 432x288 with 1 Axes>"
      ]
     },
     "metadata": {
      "needs_background": "light"
     },
     "output_type": "display_data"
    }
   ],
   "source": [
    "manhattan_hydrant.plot()"
   ]
  },
  {
   "cell_type": "code",
   "execution_count": 15,
   "id": "4279f1ce",
   "metadata": {},
   "outputs": [],
   "source": [
    "import csv\n",
    "manhattan_hydrant.to_csv('manhattan_hydrants.csv')  \n"
   ]
  },
  {
   "cell_type": "code",
   "execution_count": null,
   "id": "8ebc6b18",
   "metadata": {},
   "outputs": [],
   "source": []
  }
 ],
 "metadata": {
  "kernelspec": {
   "display_name": "Python 3 (ipykernel)",
   "language": "python",
   "name": "python3"
  },
  "language_info": {
   "codemirror_mode": {
    "name": "ipython",
    "version": 3
   },
   "file_extension": ".py",
   "mimetype": "text/x-python",
   "name": "python",
   "nbconvert_exporter": "python",
   "pygments_lexer": "ipython3",
   "version": "3.9.7"
  }
 },
 "nbformat": 4,
 "nbformat_minor": 5
}
